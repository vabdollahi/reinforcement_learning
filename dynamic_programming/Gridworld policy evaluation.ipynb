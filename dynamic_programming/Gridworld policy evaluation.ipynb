{
 "cells": [
  {
   "cell_type": "markdown",
   "id": "9f43cb84",
   "metadata": {},
   "source": [
    "# Problem statement\n",
    "Example 4.1 - Reinforcement Learning: An Introduction, Sutton and Barto, Second Edition - Dynamic Programming\n",
    "\n",
    "The agent at each step has 4 possible actions including up, down, left and right. The terminal states are top left and bottom right with 0 reward. Every other step leads to a -1 reward.\n",
    "\n",
    "            T  o  o  o\n",
    "            o  x  o  o\n",
    "            o  o  o  o\n",
    "            o  o  o  T\n",
    "\n",
    "In this notebook, we evaluate the random policy. A gym-compatible env is used for the simulation of the environment."
   ]
  },
  {
   "cell_type": "code",
   "execution_count": 1,
   "id": "a38f3c8e",
   "metadata": {},
   "outputs": [],
   "source": [
    "import numpy as np\n",
    "import sys\n",
    "import matplotlib.pyplot as plt\n",
    "\n",
    "if \"../\" not in sys.path:\n",
    "  sys.path.append(\"../\") \n",
    "\n",
    "\n",
    "from envs.gridworld import GridworldEnv"
   ]
  },
  {
   "cell_type": "code",
   "execution_count": 2,
   "id": "d697e7c8",
   "metadata": {},
   "outputs": [],
   "source": [
    "env = GridworldEnv()"
   ]
  },
  {
   "cell_type": "code",
   "execution_count": 3,
   "id": "3767697b",
   "metadata": {},
   "outputs": [],
   "source": [
    "def policy_evaluation(policy, env, discount_factor=1.0, convergence_criterion=1e-4):\n",
    "    \"\"\"\n",
    "    Evaluates a policy, given an environment and full description of the environment's dynamics\n",
    "    \n",
    "    @policy: map of [state, action] representing the policy\n",
    "    @env: OpenAI environment\n",
    "          env.P: transition probabilities of the environment\n",
    "          env.P[state][action]: list of transition tuples (prob, next_state, reward, done).\n",
    "          env.nS: number of states in the environment \n",
    "          env.nA is a number of actions in the environment.\n",
    "    @convergence_criterion: iterations convergence criterion for all the state values\n",
    "    @discount_factor: Gamma discount factor\n",
    "    \n",
    "    Returns:\n",
    "        value: vector of length env.nS representing the value function\n",
    "    \"\"\"\n",
    "    # Initialize the value function\n",
    "    value = np.zeros(env.nS)\n",
    "    while True:\n",
    "        delta_value = 0\n",
    "        for state in range(env.nS):\n",
    "            expected_value = 0\n",
    "            # Look at the possible next actions\n",
    "            for action, action_prob in enumerate(policy[state]):\n",
    "                # Look at the possible next state for each action\n",
    "                for  state_prob, next_state, reward, done in env.P[state][action]:\n",
    "                    # Calculate the expected value\n",
    "                    expected_value += action_prob * state_prob * (reward + discount_factor * value[next_state])\n",
    "            # How much our value function changed (across any states)\n",
    "            delta_value = max(delta_value, np.abs(expected_value - value[state]))\n",
    "            value[state] = expected_value\n",
    "        # Check for value function convergence\n",
    "        if delta_value < convergence_criterion:\n",
    "            break\n",
    "    return np.array(value)"
   ]
  },
  {
   "cell_type": "code",
   "execution_count": 4,
   "id": "a7594db1",
   "metadata": {},
   "outputs": [],
   "source": [
    "random_policy = np.ones([env.nS, env.nA]) / env.nA\n",
    "value = policy_evaluation(random_policy, env)"
   ]
  },
  {
   "cell_type": "code",
   "execution_count": 5,
   "id": "c6daf21f",
   "metadata": {},
   "outputs": [
    {
     "name": "stdout",
     "output_type": "stream",
     "text": [
      "[  0.         -13.99931242 -19.99901152 -21.99891199 -13.99931242\n",
      " -17.99915625 -19.99908389 -19.99909436 -19.99901152 -19.99908389\n",
      " -17.99922697 -13.99942284 -21.99891199 -19.99909436 -13.99942284\n",
      "   0.        ]\n"
     ]
    }
   ],
   "source": [
    "print(value)"
   ]
  },
  {
   "cell_type": "code",
   "execution_count": 6,
   "id": "df720a07",
   "metadata": {},
   "outputs": [
    {
     "data": {
      "image/png": "[encoded data removed]",
      "text/plain": [
       "<Figure size 864x720 with 1 Axes>"
      ]
     },
     "metadata": {
      "needs_background": "light"
     },
     "output_type": "display_data"
    }
   ],
   "source": [
    "data = value.reshape(env.shape)\n",
    "\n",
    "fig, ax = plt.subplots(figsize=(12,10))\n",
    "ax.matshow(data, cmap='YlGnBu')\n",
    "for (i, j), z in np.ndenumerate(data):\n",
    "    ax.text(j, i, '{:0.1f}'.format(z), ha='center', va='center')\n",
    "ax.set_title('Optimal state values', fontsize=16)\n",
    "plt.show()"
   ]
  },
  {
   "cell_type": "code",
   "execution_count": null,
   "id": "e7f9ebab",
   "metadata": {},
   "outputs": [],
   "source": []
  },
  {
   "cell_type": "code",
   "execution_count": null,
   "id": "155d1204",
   "metadata": {},
   "outputs": [],
   "source": []
  }
 ],
 "metadata": {
  "kernelspec": {
   "display_name": "Python 3 (ipykernel)",
   "language": "python",
   "name": "python3"
  },
  "language_info": {
   "codemirror_mode": {
    "name": "ipython",
    "version": 3
   },
   "file_extension": ".py",
   "mimetype": "text/x-python",
   "name": "python",
   "nbconvert_exporter": "python",
   "pygments_lexer": "ipython3",
   "version": "3.9.7"
  }
 },
 "nbformat": 4,
 "nbformat_minor": 5
}
