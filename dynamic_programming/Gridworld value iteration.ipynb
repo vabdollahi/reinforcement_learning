{
 "cells": [
  {
   "cell_type": "markdown",
   "id": "9f43cb84",
   "metadata": {},
   "source": [
    "# Problem statement\n",
    "Example 4.1 - Reinforcement Learning: An Introduction, Sutton and Barto, Second Edition - Dynamic Programming\n",
    "\n",
    "The agent at each step has 4 possible actions including up, down, left and right. The terminal states are top left and bottom right with 0 reward. Every other step leads to a -1 reward.\n",
    "\n",
    "            T  o  o  o\n",
    "            o  x  o  o\n",
    "            o  o  o  o\n",
    "            o  o  o  T\n",
    "\n",
    "In this notebook, we find the best policy using value iteration method. This method only iterates through the Bellman equation to calculate the optimal value function, and does not improve the policy for this purpose. The optimal policy is created after the optimal value function is calculated."
   ]
  },
  {
   "cell_type": "code",
   "execution_count": 1,
   "id": "a38f3c8e",
   "metadata": {},
   "outputs": [],
   "source": [
    "import numpy as np\n",
    "import sys\n",
    "import matplotlib.pyplot as plt\n",
    "\n",
    "if \"../\" not in sys.path:\n",
    "  sys.path.append(\"../\") \n",
    "\n",
    "\n",
    "from envs.gridworld import GridworldEnv"
   ]
  },
  {
   "cell_type": "code",
   "execution_count": 2,
   "id": "d697e7c8",
   "metadata": {},
   "outputs": [],
   "source": [
    "env = GridworldEnv()"
   ]
  },
  {
   "cell_type": "code",
   "execution_count": 3,
   "id": "99dd1b5c",
   "metadata": {},
   "outputs": [],
   "source": [
    "def value_iteration(env, convergence_criterion=1e-4, discount_factor=1.0):\n",
    "    \"\"\"\n",
    "    Value iteration algorithm\n",
    "    \n",
    "    @env: OpenAI environment\n",
    "          env.P: transition probabilities of the environment\n",
    "          env.P[state][action]: list of transition tuples (prob, next_state, reward, done)\n",
    "          env.nS: number of states in the environment \n",
    "          env.nA is a number of actions in the environment\n",
    "        @convergence_criterion: iterations convergence criterion for all the state values\n",
    "        discount_factor: Gamma discount factor\n",
    "        \n",
    "    Returns:\n",
    "        optimal policy and the optimal value function tuple (policy, V)\n",
    "    \"\"\"\n",
    "    \n",
    "    def one_step_lookahead(state, value):\n",
    "        \"\"\"\n",
    "        Calculates the value for all actions in a given state\n",
    "        \n",
    "        @state: The state being evaluated (int)\n",
    "        @value: The value to use as an estimator (vector of length env.nS)\n",
    "        \n",
    "        Returns:\n",
    "            Expected value of all actions available in a state (a vector of length env.nA)\n",
    "        \"\"\"\n",
    "        state_actions_values = np.zeros(env.nA)\n",
    "        for action in range(env.nA):\n",
    "            for prob, next_state, reward, done in env.P[state][action]:\n",
    "                state_actions_values[action] += prob * (reward + discount_factor * value[next_state])\n",
    "        return state_actions_values\n",
    "    \n",
    "    value = np.zeros(env.nS)\n",
    "    while True:\n",
    "        # Stopping condition\n",
    "        delta_value = 0\n",
    "        for state in range(env.nS):\n",
    "            # Do a one-step lookahead to find the best action\n",
    "            state_actions_values = one_step_lookahead(state, value)\n",
    "            best_action_value = np.max(state_actions_values)\n",
    "            # Update the maximum value change\n",
    "            delta_value = max(delta_value, np.abs(best_action_value - value[state]))\n",
    "            # Update the value function\n",
    "            value[state] = best_action_value\n",
    "        # Check if we can stop \n",
    "        if delta_value < convergence_criterion:\n",
    "            break\n",
    "    \n",
    "    # Create a deterministic policy using the optimal value function\n",
    "    policy = np.zeros([env.nS, env.nA])\n",
    "    for s in range(env.nS):\n",
    "        # One step lookahead to find the best action for this state\n",
    "        state_actions_values = one_step_lookahead(s, value)\n",
    "        best_action = np.argmax(state_actions_values)\n",
    "        # Always take the best action\n",
    "        policy[state, best_action] = 1.0\n",
    "    \n",
    "    return policy, value"
   ]
  },
  {
   "cell_type": "code",
   "execution_count": 4,
   "id": "4b178c93",
   "metadata": {},
   "outputs": [],
   "source": [
    "def value_iteration(env, convergence_criterion=0.0001, discount_factor=1.0):\n",
    "    \"\"\"\n",
    "    Value iteration algorithm\n",
    "    \n",
    "    @env: OpenAI environment\n",
    "          env.P: transition probabilities of the environment\n",
    "          env.P[state][action]: list of transition tuples (prob, next_state, reward, done)\n",
    "          env.nS: number of states in the environment \n",
    "          env.nA is a number of actions in the environment\n",
    "        @convergence_criterion: iterations convergence criterion for all the state values\n",
    "        discount_factor: Gamma discount factor\n",
    "        \n",
    "    Returns:\n",
    "        optimal policy and the optimal value function tuple (policy, V)\n",
    "    \"\"\"\n",
    "    \n",
    "    def one_step_lookahead(state, value):\n",
    "        \"\"\"\n",
    "        Calculates the value for all actions in a given state\n",
    "        \n",
    "        @state: The state being evaluated (int)\n",
    "        @value: The value to use as an estimator (vector of length env.nS)\n",
    "        \n",
    "        Returns:\n",
    "            Expected value of all actions available in a state (a vector of length env.nA)\n",
    "        \"\"\"\n",
    "        state_actions_values = np.zeros(env.nA)\n",
    "        for action in range(env.nA):\n",
    "            for prob, next_state, reward, done in env.P[state][action]:\n",
    "                state_actions_values[action] += prob * (reward + discount_factor * value[next_state])\n",
    "        return state_actions_values\n",
    "    \n",
    "    value = np.zeros(env.nS)\n",
    "    while True:\n",
    "        # Maximum change in the value function update\n",
    "        delta_value = 0\n",
    "        for state in range(env.nS):\n",
    "            # The best action by one-step lookahead\n",
    "            state_actions_values = one_step_lookahead(state, value)\n",
    "            best_action_value = np.max(state_actions_values)\n",
    "            # How much our value function changed (across any states)\n",
    "            delta_value = max(delta_value, np.abs(best_action_value - value[state]))\n",
    "            value[state] = best_action_value        \n",
    "        # Check for convergence\n",
    "        if delta_value < convergence_criterion:\n",
    "            break\n",
    "    \n",
    "    # Create a deterministic policy using the optimal value function\n",
    "    policy = np.zeros([env.nS, env.nA])\n",
    "    for state in range(env.nS):\n",
    "        # The best action by one-step lookahead\n",
    "        state_actions_values = one_step_lookahead(state, value)\n",
    "        best_action = np.argmax(state_actions_values)\n",
    "        # Greedily calculate the policy\n",
    "        policy[state, best_action] = 1.0\n",
    "    \n",
    "    return policy, value"
   ]
  },
  {
   "cell_type": "code",
   "execution_count": 5,
   "id": "a7594db1",
   "metadata": {},
   "outputs": [],
   "source": [
    "policy, value = value_iteration(env)"
   ]
  },
  {
   "cell_type": "code",
   "execution_count": 6,
   "id": "c6daf21f",
   "metadata": {},
   "outputs": [
    {
     "name": "stdout",
     "output_type": "stream",
     "text": [
      "[[1. 0. 0. 0.]\n",
      " [0. 0. 0. 1.]\n",
      " [0. 0. 0. 1.]\n",
      " [0. 0. 1. 0.]\n",
      " [1. 0. 0. 0.]\n",
      " [1. 0. 0. 0.]\n",
      " [1. 0. 0. 0.]\n",
      " [0. 0. 1. 0.]\n",
      " [1. 0. 0. 0.]\n",
      " [1. 0. 0. 0.]\n",
      " [0. 1. 0. 0.]\n",
      " [0. 0. 1. 0.]\n",
      " [1. 0. 0. 0.]\n",
      " [0. 1. 0. 0.]\n",
      " [0. 1. 0. 0.]\n",
      " [1. 0. 0. 0.]]\n"
     ]
    }
   ],
   "source": [
    "print(policy)"
   ]
  },
  {
   "cell_type": "code",
   "execution_count": 7,
   "id": "3154476e",
   "metadata": {},
   "outputs": [
    {
     "name": "stdout",
     "output_type": "stream",
     "text": [
      "Reshaped Grid Policy (0=up, 1=right, 2=down, 3=left):\n",
      "[[0 3 3 2]\n",
      " [0 0 0 2]\n",
      " [0 0 1 2]\n",
      " [0 1 1 0]]\n"
     ]
    }
   ],
   "source": [
    "print(\"Reshaped Grid Policy (0=up, 1=right, 2=down, 3=left):\")\n",
    "policy_reshaped = np.reshape(np.argmax(policy, axis=1), env.shape)\n",
    "print(policy_reshaped)"
   ]
  },
  {
   "cell_type": "code",
   "execution_count": 8,
   "id": "a3268331",
   "metadata": {},
   "outputs": [
    {
     "data": {
      "image/png": "[encoded data removed]",
      "text/plain": [
       "<Figure size 864x720 with 1 Axes>"
      ]
     },
     "metadata": {
      "needs_background": "light"
     },
     "output_type": "display_data"
    }
   ],
   "source": [
    "fig, ax = plt.subplots(figsize=(12,10))\n",
    "ax.matshow(policy_reshaped, cmap='Pastel1')\n",
    "for (i, j), z in np.ndenumerate(policy_reshaped):\n",
    "    ax.text(j, i, '{:0.1f}'.format(z), ha='center', va='center')\n",
    "ax.set_title('Optimal policy', fontsize=16)\n",
    "plt.show()"
   ]
  },
  {
   "cell_type": "code",
   "execution_count": 9,
   "id": "48f73289",
   "metadata": {},
   "outputs": [
    {
     "name": "stdout",
     "output_type": "stream",
     "text": [
      "Reshaped Grid Value Function:\n",
      "[[ 0. -1. -2. -3.]\n",
      " [-1. -2. -3. -2.]\n",
      " [-2. -3. -2. -1.]\n",
      " [-3. -2. -1.  0.]]\n"
     ]
    }
   ],
   "source": [
    "print(\"Reshaped Grid Value Function:\")\n",
    "value_reshape = value.reshape(env.shape)\n",
    "print(value_reshape)"
   ]
  },
  {
   "cell_type": "code",
   "execution_count": 10,
   "id": "df720a07",
   "metadata": {},
   "outputs": [
    {
     "data": {
      "image/png": "[encoded data removed]",
      "text/plain": [
       "<Figure size 864x720 with 1 Axes>"
      ]
     },
     "metadata": {
      "needs_background": "light"
     },
     "output_type": "display_data"
    }
   ],
   "source": [
    "fig, ax = plt.subplots(figsize=(12,10))\n",
    "ax.matshow(value_reshape, cmap='Pastel1')\n",
    "for (i, j), z in np.ndenumerate(value_reshape):\n",
    "    ax.text(j, i, '{:0.1f}'.format(z), ha='center', va='center')\n",
    "ax.set_title('Optimal state values', fontsize=16)\n",
    "plt.show()"
   ]
  },
  {
   "cell_type": "code",
   "execution_count": null,
   "id": "e7f9ebab",
   "metadata": {},
   "outputs": [],
   "source": []
  },
  {
   "cell_type": "code",
   "execution_count": null,
   "id": "155d1204",
   "metadata": {},
   "outputs": [],
   "source": []
  }
 ],
 "metadata": {
  "kernelspec": {
   "display_name": "Python 3 (ipykernel)",
   "language": "python",
   "name": "python3"
  },
  "language_info": {
   "codemirror_mode": {
    "name": "ipython",
    "version": 3
   },
   "file_extension": ".py",
   "mimetype": "text/x-python",
   "name": "python",
   "nbconvert_exporter": "python",
   "pygments_lexer": "ipython3",
   "version": "3.9.7"
  }
 },
 "nbformat": 4,
 "nbformat_minor": 5
}
